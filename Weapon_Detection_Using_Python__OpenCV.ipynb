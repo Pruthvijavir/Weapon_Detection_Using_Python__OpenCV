{
 "cells": [
  {
   "cell_type": "code",
   "execution_count": 1,
   "id": "d6776e97",
   "metadata": {},
   "outputs": [],
   "source": [
    "import numpy as np\n",
    "import cv2\n",
    "import datetime\n",
    "import imutils"
   ]
  },
  {
   "cell_type": "code",
   "execution_count": 2,
   "id": "ba259e02",
   "metadata": {},
   "outputs": [],
   "source": [
    "gun_cascade = cv2.CascadeClassifier('cascade.xml')"
   ]
  },
  {
   "cell_type": "code",
   "execution_count": 3,
   "id": "cb3bdbbf",
   "metadata": {},
   "outputs": [],
   "source": [
    "camera = cv2.VideoCapture(0)"
   ]
  },
  {
   "cell_type": "code",
   "execution_count": 4,
   "id": "8c3ca1b3",
   "metadata": {},
   "outputs": [],
   "source": [
    "firstFrame = None\n",
    "gun_exit = None"
   ]
  },
  {
   "cell_type": "code",
   "execution_count": 5,
   "id": "d88ee47f",
   "metadata": {},
   "outputs": [
    {
     "ename": "AttributeError",
     "evalue": "module 'cv2' has no attribute 'waitkey'",
     "output_type": "error",
     "traceback": [
      "\u001b[1;31m---------------------------------------------------------------------------\u001b[0m",
      "\u001b[1;31mAttributeError\u001b[0m                            Traceback (most recent call last)",
      "Cell \u001b[1;32mIn[5], line 26\u001b[0m\n\u001b[0;32m     23\u001b[0m     \u001b[38;5;28;01mcontinue\u001b[39;00m\n\u001b[0;32m     25\u001b[0m cv2\u001b[38;5;241m.\u001b[39mimshow(\u001b[38;5;124m\"\u001b[39m\u001b[38;5;124mSecurity feed\u001b[39m\u001b[38;5;124m\"\u001b[39m, frame)\n\u001b[1;32m---> 26\u001b[0m key \u001b[38;5;241m=\u001b[39m \u001b[43mcv2\u001b[49m\u001b[38;5;241;43m.\u001b[39;49m\u001b[43mwaitkey\u001b[49m(\u001b[38;5;241m1\u001b[39m) \u001b[38;5;241m&\u001b[39m \u001b[38;5;241m0xFF\u001b[39m\n\u001b[0;32m     28\u001b[0m \u001b[38;5;28;01mif\u001b[39;00m key \u001b[38;5;241m==\u001b[39m \u001b[38;5;28mord\u001b[39m(\u001b[38;5;124m'\u001b[39m\u001b[38;5;124mq\u001b[39m\u001b[38;5;124m'\u001b[39m):\n\u001b[0;32m     29\u001b[0m     \u001b[38;5;28;01mbreak\u001b[39;00m\n",
      "\u001b[1;31mAttributeError\u001b[0m: module 'cv2' has no attribute 'waitkey'"
     ]
    }
   ],
   "source": [
    "while True:\n",
    "    ret, frame = camera.read()\n",
    "    \n",
    "    frame = imutils.resize(frame, width=500)\n",
    "    gray = cv2.cvtColor(frame, cv2.COLOR_BGR2GRAY)\n",
    "    \n",
    "    gun = gun_cascade.detectMultiScale(gray, 1.3, 5,\n",
    "                                       minSize=(100,100))\n",
    "    \n",
    "    if len(gun)>0:\n",
    "        gun_exit = True\n",
    "        \n",
    "    for(x, y, w, h) in gun:\n",
    "        frame = cv2.rectangle(frame, (x,y),\n",
    "                              (y + w, y + h), \n",
    "                              (255,0,0), 2)\n",
    "        \n",
    "        roi_gray = gray[y : y + h, x : x + w]\n",
    "        roi_color = frame[y : y + h, x : x + w]\n",
    "    \n",
    "    if firstFrame is None:\n",
    "        firstFrame = gray\n",
    "        continue\n",
    "        \n",
    "    cv2.imshow(\"Security feed\", frame)\n",
    "    key = cv2.waitkey(1) & 0xFF\n",
    "    \n",
    "    if key == ord('q'):\n",
    "        break\n",
    "        \n",
    "if gun_exit:\n",
    "    print(\"Guns Detected\")\n",
    "else:\n",
    "    print(\"Guns didn't Detected\")\n",
    "    \n",
    "camera.release()\n",
    "cv2.DestroyAllWindows()"
   ]
  },
  {
   "cell_type": "code",
   "execution_count": null,
   "id": "932c6362",
   "metadata": {},
   "outputs": [],
   "source": []
  }
 ],
 "metadata": {
  "kernelspec": {
   "display_name": "Python 3 (ipykernel)",
   "language": "python",
   "name": "python3"
  },
  "language_info": {
   "codemirror_mode": {
    "name": "ipython",
    "version": 3
   },
   "file_extension": ".py",
   "mimetype": "text/x-python",
   "name": "python",
   "nbconvert_exporter": "python",
   "pygments_lexer": "ipython3",
   "version": "3.9.12"
  }
 },
 "nbformat": 4,
 "nbformat_minor": 5
}
